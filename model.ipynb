{
 "cells": [
  {
   "cell_type": "code",
   "execution_count": 1,
   "metadata": {},
   "outputs": [
    {
     "name": "stdout",
     "output_type": "stream",
     "text": [
      "WARNING:tensorflow:From c:\\Users\\kxfor\\OneDrive\\Documents\\Coursework\\AMS_520\\Trading-with-Momentum-Transformer\\env\\Lib\\site-packages\\keras\\src\\losses.py:2976: The name tf.losses.sparse_softmax_cross_entropy is deprecated. Please use tf.compat.v1.losses.sparse_softmax_cross_entropy instead.\n",
      "\n",
      "here\n"
     ]
    },
    {
     "name": "stderr",
     "output_type": "stream",
     "text": [
      "c:\\Users\\kxfor\\OneDrive\\Documents\\Coursework\\AMS_520\\Trading-with-Momentum-Transformer\\mom_trans_latest\\mom_trans\\model_inputs.py:176: SettingWithCopyWarning: \n",
      "A value is trying to be set on a copy of a slice from a DataFrame.\n",
      "Try using .loc[row_indexer,col_indexer] = value instead\n",
      "\n",
      "See the caveats in the documentation: https://pandas.pydata.org/pandas-docs/stable/user_guide/indexing.html#returning-a-view-versus-a-copy\n",
      "  df[\"static_ticker\"] = df[\"ticker\"]\n"
     ]
    },
    {
     "name": "stdout",
     "output_type": "stream",
     "text": [
      "made it\n",
      "Deep Momentum Network params:\n",
      "architecture = TFT\n",
      "total_time_steps = 64\n",
      "early_stopping_patience = 25\n",
      "multiprocessing_workers = 32\n",
      "num_epochs = 10\n",
      "fill_blank_dates = False\n",
      "split_tickers_individually = True\n",
      "random_search_iterations = 50\n",
      "evaluate_diversified_val_sharpe = True\n",
      "train_valid_ratio = 0.9\n",
      "time_features = False\n",
      "force_output_sharpe_length = 0\n",
      "batch_size = 64\n",
      "input_size = 11\n",
      "output_size = 1\n",
      "category_counts = [1]\n",
      "static_input_loc = [10]\n",
      "known_regular_inputs = [0, 1, 2, 3, 4, 5, 6, 7, 8, 9]\n",
      "known_categorical_inputs = [0]\n",
      "column_definition = [('ticker', <DataTypes.CATEGORICAL: 1>, <InputTypes.ID: 4>), ('Time', <DataTypes.DATE: 2>, <InputTypes.TIME: 5>), ('log_10min', <DataTypes.REAL_VALUED: 0>, <InputTypes.KNOWN_INPUT: 2>), ('log_30min', <DataTypes.REAL_VALUED: 0>, <InputTypes.KNOWN_INPUT: 2>), ('log_1h', <DataTypes.REAL_VALUED: 0>, <InputTypes.KNOWN_INPUT: 2>), ('log_3h', <DataTypes.REAL_VALUED: 0>, <InputTypes.KNOWN_INPUT: 2>), ('volatility_log_1min', <DataTypes.REAL_VALUED: 0>, <InputTypes.KNOWN_INPUT: 2>), ('volatility_log_10min', <DataTypes.REAL_VALUED: 0>, <InputTypes.KNOWN_INPUT: 2>), ('volatility_log_30min', <DataTypes.REAL_VALUED: 0>, <InputTypes.KNOWN_INPUT: 2>), ('volatility_log_1h', <DataTypes.REAL_VALUED: 0>, <InputTypes.KNOWN_INPUT: 2>), ('volatility_log_3h', <DataTypes.REAL_VALUED: 0>, <InputTypes.KNOWN_INPUT: 2>), ('Trade_Volume', <DataTypes.REAL_VALUED: 0>, <InputTypes.KNOWN_INPUT: 2>), ('static_ticker', <DataTypes.CATEGORICAL: 1>, <InputTypes.STATIC_INPUT: 3>), ('log_1min', <DataTypes.REAL_VALUED: 0>, <InputTypes.TARGET: 0>)]\n",
      "num_encoder_steps = 0\n",
      "stack_size = 1\n",
      "num_heads = 4\n",
      "failed to create directory:\n",
      "WARNING:tensorflow:From c:\\Users\\kxfor\\OneDrive\\Documents\\Coursework\\AMS_520\\Trading-with-Momentum-Transformer\\env\\Lib\\site-packages\\keras\\src\\backend.py:1398: The name tf.executing_eagerly_outside_functions is deprecated. Please use tf.compat.v1.executing_eagerly_outside_functions instead.\n",
      "\n",
      "WARNING:tensorflow:From c:\\Users\\kxfor\\OneDrive\\Documents\\Coursework\\AMS_520\\Trading-with-Momentum-Transformer\\env\\Lib\\site-packages\\keras\\src\\layers\\normalization\\layer_normalization.py:328: The name tf.nn.fused_batch_norm is deprecated. Please use tf.compat.v1.nn.fused_batch_norm instead.\n",
      "\n"
     ]
    },
    {
     "name": "stderr",
     "output_type": "stream",
     "text": [
      "WARNING:absl:`lr` is deprecated in Keras optimizer, please use `learning_rate` or use the legacy optimizer, e.g.,tf.keras.optimizers.legacy.Adam.\n"
     ]
    }
   ],
   "source": [
    "from mom_trans_latest.mom_trans.backtest import run_single_window\n",
    "\n",
    "\n",
    "\n",
    "from settings.fixed_params import MODLE_PARAMS as mp #model params lol\n",
    "mp['batch_size'] = 64\n",
    "mp['num_epochs'] = 10\n",
    "mp['total_time_steps'] = 64\n",
    "features,model = run_single_window(experiment_name='test2',\n",
    "                                   features_file_path='mom_trans_latest/mom_trans/aapl_preprocessed.csv',\n",
    "                                   changepoint_lbws=False,\n",
    "                  train_interval= ('2020-01-09 09:30:00','2020-01-15 10:30:00','2020-01-16 10:45:00'), \n",
    "                   params=mp)\n",
    "\n",
    "\n",
    "\n"
   ]
  },
  {
   "cell_type": "code",
   "execution_count": 2,
   "metadata": {},
   "outputs": [
    {
     "name": "stderr",
     "output_type": "stream",
     "text": [
      "WARNING:absl:`lr` is deprecated in Keras optimizer, please use `learning_rate` or use the legacy optimizer, e.g.,tf.keras.optimizers.legacy.Adam.\n"
     ]
    },
    {
     "name": "stdout",
     "output_type": "stream",
     "text": [
      "Epoch 1/10\n",
      "WARNING:tensorflow:From c:\\Users\\kxfor\\OneDrive\\Documents\\Coursework\\AMS_520\\Trading-with-Momentum-Transformer\\env\\Lib\\site-packages\\keras\\src\\utils\\tf_utils.py:492: The name tf.ragged.RaggedTensorValue is deprecated. Please use tf.compat.v1.ragged.RaggedTensorValue instead.\n",
      "\n"
     ]
    },
    {
     "name": "stderr",
     "output_type": "stream",
     "text": [
      "WARNING:tensorflow:From c:\\Users\\kxfor\\OneDrive\\Documents\\Coursework\\AMS_520\\Trading-with-Momentum-Transformer\\env\\Lib\\site-packages\\keras\\src\\utils\\tf_utils.py:492: The name tf.ragged.RaggedTensorValue is deprecated. Please use tf.compat.v1.ragged.RaggedTensorValue instead.\n",
      "\n"
     ]
    },
    {
     "name": "stdout",
     "output_type": "stream",
     "text": [
      "62/62 [==============================] - 4s 17ms/step\n"
     ]
    },
    {
     "ename": "InvalidArgumentError",
     "evalue": "{{function_node __wrapped__UnsortedSegmentSum_device_/job:localhost/replica:0/task:0/device:CPU:0}} segment_ids[1953,29,0] = 122921 is out of range [0, 122921) [Op:UnsortedSegmentSum] name: ",
     "output_type": "error",
     "traceback": [
      "\u001b[1;31m---------------------------------------------------------------------------\u001b[0m",
      "\u001b[1;31mInvalidArgumentError\u001b[0m                      Traceback (most recent call last)",
      "\u001b[1;32mc:\\Users\\kxfor\\OneDrive\\Documents\\Coursework\\AMS_520\\Trading-with-Momentum-Transformer\\model.ipynb Cell 2\u001b[0m line \u001b[0;36m1\n\u001b[1;32m----> <a href='vscode-notebook-cell:/c%3A/Users/kxfor/OneDrive/Documents/Coursework/AMS_520/Trading-with-Momentum-Transformer/model.ipynb#W1sZmlsZQ%3D%3D?line=0'>1</a>\u001b[0m res \u001b[39m=\u001b[39m model\u001b[39m.\u001b[39;49mfit(features\u001b[39m.\u001b[39;49mtrain,features\u001b[39m.\u001b[39;49mvalid,mp,\u001b[39m'\u001b[39;49m\u001b[39mtwo_tickers\u001b[39;49m\u001b[39m'\u001b[39;49m)\n",
      "File \u001b[1;32mc:\\Users\\kxfor\\OneDrive\\Documents\\Coursework\\AMS_520\\Trading-with-Momentum-Transformer\\mom_trans_latest\\mom_trans\\deep_momentum_network.py:392\u001b[0m, in \u001b[0;36mDeepMomentumNetworkModel.fit\u001b[1;34m(self, train_data, valid_data, hyperparameters, temp_folder)\u001b[0m\n\u001b[0;32m    379\u001b[0m     callbacks \u001b[39m=\u001b[39m [\n\u001b[0;32m    380\u001b[0m         SharpeValidationLoss(\n\u001b[0;32m    381\u001b[0m             val_data,\n\u001b[1;32m   (...)\u001b[0m\n\u001b[0;32m    389\u001b[0m         tf\u001b[39m.\u001b[39mkeras\u001b[39m.\u001b[39mcallbacks\u001b[39m.\u001b[39mTerminateOnNaN(),\n\u001b[0;32m    390\u001b[0m     ]\n\u001b[0;32m    391\u001b[0m     \u001b[39m# self.model.run_eagerly = True\u001b[39;00m\n\u001b[1;32m--> 392\u001b[0m     model\u001b[39m.\u001b[39;49mfit(\n\u001b[0;32m    393\u001b[0m         x\u001b[39m=\u001b[39;49mdata,\n\u001b[0;32m    394\u001b[0m         y\u001b[39m=\u001b[39;49mlabels,\n\u001b[0;32m    395\u001b[0m         sample_weight\u001b[39m=\u001b[39;49mactive_flags,\n\u001b[0;32m    396\u001b[0m         epochs\u001b[39m=\u001b[39;49m\u001b[39mself\u001b[39;49m\u001b[39m.\u001b[39;49mnum_epochs,\n\u001b[0;32m    397\u001b[0m         batch_size\u001b[39m=\u001b[39;49mhyperparameters[\u001b[39m\"\u001b[39;49m\u001b[39mbatch_size\u001b[39;49m\u001b[39m\"\u001b[39;49m],\n\u001b[0;32m    398\u001b[0m         callbacks\u001b[39m=\u001b[39;49mcallbacks,\n\u001b[0;32m    399\u001b[0m         shuffle\u001b[39m=\u001b[39;49m\u001b[39mTrue\u001b[39;49;00m,\n\u001b[0;32m    400\u001b[0m         use_multiprocessing\u001b[39m=\u001b[39;49m\u001b[39mTrue\u001b[39;49;00m,\n\u001b[0;32m    401\u001b[0m         workers\u001b[39m=\u001b[39;49m\u001b[39mself\u001b[39;49m\u001b[39m.\u001b[39;49mn_multiprocessing_workers,\n\u001b[0;32m    402\u001b[0m     )\n\u001b[0;32m    403\u001b[0m     model\u001b[39m.\u001b[39mload_weights(temp_folder)\n\u001b[0;32m    404\u001b[0m \u001b[39melse\u001b[39;00m:\n",
      "File \u001b[1;32mc:\\Users\\kxfor\\OneDrive\\Documents\\Coursework\\AMS_520\\Trading-with-Momentum-Transformer\\env\\Lib\\site-packages\\keras\\src\\utils\\traceback_utils.py:70\u001b[0m, in \u001b[0;36mfilter_traceback.<locals>.error_handler\u001b[1;34m(*args, **kwargs)\u001b[0m\n\u001b[0;32m     67\u001b[0m     filtered_tb \u001b[39m=\u001b[39m _process_traceback_frames(e\u001b[39m.\u001b[39m__traceback__)\n\u001b[0;32m     68\u001b[0m     \u001b[39m# To get the full stack trace, call:\u001b[39;00m\n\u001b[0;32m     69\u001b[0m     \u001b[39m# `tf.debugging.disable_traceback_filtering()`\u001b[39;00m\n\u001b[1;32m---> 70\u001b[0m     \u001b[39mraise\u001b[39;00m e\u001b[39m.\u001b[39mwith_traceback(filtered_tb) \u001b[39mfrom\u001b[39;00m \u001b[39mNone\u001b[39;00m\n\u001b[0;32m     71\u001b[0m \u001b[39mfinally\u001b[39;00m:\n\u001b[0;32m     72\u001b[0m     \u001b[39mdel\u001b[39;00m filtered_tb\n",
      "File \u001b[1;32mc:\\Users\\kxfor\\OneDrive\\Documents\\Coursework\\AMS_520\\Trading-with-Momentum-Transformer\\mom_trans_latest\\mom_trans\\deep_momentum_network.py:97\u001b[0m, in \u001b[0;36mSharpeValidationLoss.on_epoch_end\u001b[1;34m(self, epoch, logs)\u001b[0m\n\u001b[0;32m     88\u001b[0m positions \u001b[39m=\u001b[39m \u001b[39mself\u001b[39m\u001b[39m.\u001b[39mmodel\u001b[39m.\u001b[39mpredict(\n\u001b[0;32m     89\u001b[0m     \u001b[39mself\u001b[39m\u001b[39m.\u001b[39minputs,\n\u001b[0;32m     90\u001b[0m     workers\u001b[39m=\u001b[39m\u001b[39mself\u001b[39m\u001b[39m.\u001b[39mn_multiprocessing_workers,\n\u001b[0;32m     91\u001b[0m     use_multiprocessing\u001b[39m=\u001b[39m\u001b[39mTrue\u001b[39;00m,  \u001b[39m# , batch_size=1\u001b[39;00m\n\u001b[0;32m     92\u001b[0m )\n\u001b[0;32m     94\u001b[0m \u001b[39m# captured_returns = tf.math.unsorted_segment_mean(\u001b[39;00m\n\u001b[0;32m     95\u001b[0m \u001b[39m#     positions * self.returns, self.time_indices, self.num_time\u001b[39;00m\n\u001b[0;32m     96\u001b[0m \u001b[39m# )[1:]\u001b[39;00m\n\u001b[1;32m---> 97\u001b[0m captured_returns \u001b[39m=\u001b[39m tf\u001b[39m.\u001b[39;49mmath\u001b[39m.\u001b[39;49munsorted_segment_mean(\n\u001b[0;32m     98\u001b[0m     positions \u001b[39m*\u001b[39;49m \u001b[39mself\u001b[39;49m\u001b[39m.\u001b[39;49mreturns, \u001b[39mself\u001b[39;49m\u001b[39m.\u001b[39;49mtime_indices, \u001b[39mself\u001b[39;49m\u001b[39m.\u001b[39;49mnum_time\n\u001b[0;32m     99\u001b[0m )[\u001b[39m1\u001b[39m:\u001b[39m-\u001b[39m\u001b[39m1\u001b[39m]\n\u001b[0;32m    100\u001b[0m \u001b[39m# ignoring null times\u001b[39;00m\n\u001b[0;32m    101\u001b[0m \n\u001b[0;32m    102\u001b[0m \u001b[39m# TODO sharpe\u001b[39;00m\n\u001b[0;32m    103\u001b[0m sharpe \u001b[39m=\u001b[39m (\n\u001b[0;32m    104\u001b[0m     tf\u001b[39m.\u001b[39mreduce_mean(captured_returns)\n\u001b[0;32m    105\u001b[0m     \u001b[39m/\u001b[39m tf\u001b[39m.\u001b[39msqrt(\n\u001b[1;32m   (...)\u001b[0m\n\u001b[0;32m    109\u001b[0m     \u001b[39m*\u001b[39m tf\u001b[39m.\u001b[39msqrt(tf\u001b[39m.\u001b[39mconstant(\u001b[39m252.0\u001b[39m, dtype\u001b[39m=\u001b[39mtf\u001b[39m.\u001b[39mfloat64))\n\u001b[0;32m    110\u001b[0m )\u001b[39m.\u001b[39mnumpy()\n",
      "\u001b[1;31mInvalidArgumentError\u001b[0m: {{function_node __wrapped__UnsortedSegmentSum_device_/job:localhost/replica:0/task:0/device:CPU:0}} segment_ids[1953,29,0] = 122921 is out of range [0, 122921) [Op:UnsortedSegmentSum] name: "
     ]
    }
   ],
   "source": [
    "res = model.fit(features.train,features.valid,mp,'two_tickers')"
   ]
  },
  {
   "cell_type": "code",
   "execution_count": null,
   "metadata": {},
   "outputs": [],
   "source": [
    "pos= model.get_positions(features.test_fixed,res)"
   ]
  }
 ],
 "metadata": {
  "kernelspec": {
   "display_name": "env",
   "language": "python",
   "name": "python3"
  },
  "language_info": {
   "codemirror_mode": {
    "name": "ipython",
    "version": 3
   },
   "file_extension": ".py",
   "mimetype": "text/x-python",
   "name": "python",
   "nbconvert_exporter": "python",
   "pygments_lexer": "ipython3",
   "version": "3.11.0"
  }
 },
 "nbformat": 4,
 "nbformat_minor": 2
}
